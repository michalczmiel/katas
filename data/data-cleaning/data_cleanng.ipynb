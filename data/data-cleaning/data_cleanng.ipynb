{
 "cells": [
  {
   "cell_type": "code",
   "execution_count": 1,
   "id": "f12489af-6232-49cc-8ec1-bbdaa5015ab9",
   "metadata": {},
   "outputs": [],
   "source": [
    "import numpy as np\n",
    "import pandas as pd\n",
    "import seaborn as sns"
   ]
  },
  {
   "cell_type": "markdown",
   "id": "968e550b-b63b-4abe-9197-d153e2ebc9d8",
   "metadata": {},
   "source": [
    "# Preparation"
   ]
  },
  {
   "cell_type": "markdown",
   "id": "d972098c-98cd-496b-a4ed-1491af0cb2c9",
   "metadata": {},
   "source": [
    "## Importing dataset"
   ]
  },
  {
   "cell_type": "code",
   "execution_count": 2,
   "id": "c3525ed0-d498-4f4e-a103-f3e1c816d8c4",
   "metadata": {},
   "outputs": [],
   "source": [
    "df = pd.read_csv(\"data/TitanicMess.tsv\", decimal=\",\", sep=\"\\t\", header=0)"
   ]
  },
  {
   "cell_type": "code",
   "execution_count": 3,
   "id": "54d13485-4a29-477e-8680-ba4043280467",
   "metadata": {},
   "outputs": [
    {
     "data": {
      "text/html": [
       "<div>\n",
       "<style scoped>\n",
       "    .dataframe tbody tr th:only-of-type {\n",
       "        vertical-align: middle;\n",
       "    }\n",
       "\n",
       "    .dataframe tbody tr th {\n",
       "        vertical-align: top;\n",
       "    }\n",
       "\n",
       "    .dataframe thead th {\n",
       "        text-align: right;\n",
       "    }\n",
       "</style>\n",
       "<table border=\"1\" class=\"dataframe\">\n",
       "  <thead>\n",
       "    <tr style=\"text-align: right;\">\n",
       "      <th></th>\n",
       "      <th>PassengerId</th>\n",
       "      <th>Survived</th>\n",
       "      <th>Pclass</th>\n",
       "      <th>Name</th>\n",
       "      <th>Sex</th>\n",
       "      <th>Age</th>\n",
       "      <th>SibSp</th>\n",
       "      <th>Parch</th>\n",
       "      <th>Ticket</th>\n",
       "      <th>Fare</th>\n",
       "      <th>Cabin</th>\n",
       "      <th>Embarked</th>\n",
       "      <th>ship</th>\n",
       "    </tr>\n",
       "  </thead>\n",
       "  <tbody>\n",
       "    <tr>\n",
       "      <th>0</th>\n",
       "      <td>1</td>\n",
       "      <td>0</td>\n",
       "      <td>3</td>\n",
       "      <td>Braund, Mr. Owen Harris</td>\n",
       "      <td>male</td>\n",
       "      <td>22</td>\n",
       "      <td>1</td>\n",
       "      <td>0</td>\n",
       "      <td>A/5 21171</td>\n",
       "      <td>7,25</td>\n",
       "      <td>NaN</td>\n",
       "      <td>S</td>\n",
       "      <td>Titanic</td>\n",
       "    </tr>\n",
       "    <tr>\n",
       "      <th>1</th>\n",
       "      <td>2</td>\n",
       "      <td>1</td>\n",
       "      <td>1</td>\n",
       "      <td>Cumings, Mrs. John Bradley (Florence Briggs Th...</td>\n",
       "      <td>female</td>\n",
       "      <td>38</td>\n",
       "      <td>1</td>\n",
       "      <td>0</td>\n",
       "      <td>PC 17599</td>\n",
       "      <td>71,2833</td>\n",
       "      <td>C85</td>\n",
       "      <td>C</td>\n",
       "      <td>Titanic</td>\n",
       "    </tr>\n",
       "    <tr>\n",
       "      <th>2</th>\n",
       "      <td>3</td>\n",
       "      <td>1</td>\n",
       "      <td>3</td>\n",
       "      <td>Heikkinen, Miss. Laina</td>\n",
       "      <td>female</td>\n",
       "      <td>26</td>\n",
       "      <td>0</td>\n",
       "      <td>0</td>\n",
       "      <td>STON/O2. 3101282</td>\n",
       "      <td>7,925</td>\n",
       "      <td>NaN</td>\n",
       "      <td>S</td>\n",
       "      <td>Titanic</td>\n",
       "    </tr>\n",
       "    <tr>\n",
       "      <th>3</th>\n",
       "      <td>4</td>\n",
       "      <td>1</td>\n",
       "      <td>1</td>\n",
       "      <td>Futrelle, Mrs. Jacques Heath (Lily May Peel)</td>\n",
       "      <td>female</td>\n",
       "      <td>35</td>\n",
       "      <td>1</td>\n",
       "      <td>0</td>\n",
       "      <td>113803</td>\n",
       "      <td>53,1</td>\n",
       "      <td>C123</td>\n",
       "      <td>S</td>\n",
       "      <td>Titanic</td>\n",
       "    </tr>\n",
       "    <tr>\n",
       "      <th>4</th>\n",
       "      <td>5</td>\n",
       "      <td>0</td>\n",
       "      <td>3</td>\n",
       "      <td>Allen, Mr. William Henry</td>\n",
       "      <td>male</td>\n",
       "      <td>35</td>\n",
       "      <td>0</td>\n",
       "      <td>0</td>\n",
       "      <td>373450</td>\n",
       "      <td>8,05</td>\n",
       "      <td>NaN</td>\n",
       "      <td>S</td>\n",
       "      <td>Titanic</td>\n",
       "    </tr>\n",
       "  </tbody>\n",
       "</table>\n",
       "</div>"
      ],
      "text/plain": [
       "   PassengerId  Survived  Pclass  \\\n",
       "0            1         0       3   \n",
       "1            2         1       1   \n",
       "2            3         1       3   \n",
       "3            4         1       1   \n",
       "4            5         0       3   \n",
       "\n",
       "                                                Name     Sex Age  SibSp  \\\n",
       "0                            Braund, Mr. Owen Harris    male  22      1   \n",
       "1  Cumings, Mrs. John Bradley (Florence Briggs Th...  female  38      1   \n",
       "2                             Heikkinen, Miss. Laina  female  26      0   \n",
       "3       Futrelle, Mrs. Jacques Heath (Lily May Peel)  female  35      1   \n",
       "4                           Allen, Mr. William Henry    male  35      0   \n",
       "\n",
       "   Parch            Ticket     Fare Cabin Embarked     ship  \n",
       "0      0         A/5 21171     7,25   NaN        S  Titanic  \n",
       "1      0          PC 17599  71,2833   C85        C  Titanic  \n",
       "2      0  STON/O2. 3101282    7,925   NaN        S  Titanic  \n",
       "3      0            113803     53,1  C123        S  Titanic  \n",
       "4      0            373450     8,05   NaN        S  Titanic  "
      ]
     },
     "execution_count": 3,
     "metadata": {},
     "output_type": "execute_result"
    }
   ],
   "source": [
    "df.head()"
   ]
  },
  {
   "cell_type": "markdown",
   "id": "3ba415ed-01b7-4fe3-ae47-9e8b5547be09",
   "metadata": {},
   "source": [
    "## Correcting types"
   ]
  },
  {
   "cell_type": "code",
   "execution_count": 4,
   "id": "c6dc34dd-34c3-4925-b36e-857fc9a126b9",
   "metadata": {},
   "outputs": [
    {
     "data": {
      "text/plain": [
       "PassengerId     int64\n",
       "Survived        int64\n",
       "Pclass          int64\n",
       "Name           object\n",
       "Sex            object\n",
       "Age            object\n",
       "SibSp           int64\n",
       "Parch           int64\n",
       "Ticket         object\n",
       "Fare           object\n",
       "Cabin          object\n",
       "Embarked       object\n",
       "ship           object\n",
       "dtype: object"
      ]
     },
     "execution_count": 4,
     "metadata": {},
     "output_type": "execute_result"
    }
   ],
   "source": [
    "df.dtypes"
   ]
  },
  {
   "cell_type": "code",
   "execution_count": 5,
   "id": "3cac338b-babc-4d8c-ba94-0f7dfa7b680d",
   "metadata": {},
   "outputs": [],
   "source": [
    "df[\"PassengerId\"] = df[\"PassengerId\"].apply(str)\n",
    "df[\"Survived\"] = df[\"Survived\"].apply(str)\n",
    "df[\"Pclass\"] = df[\"Pclass\"].apply(str)"
   ]
  },
  {
   "cell_type": "markdown",
   "id": "e828e34f-1711-4bad-ad4c-800ea23b6936",
   "metadata": {},
   "source": [
    "### Converting to Amercian number system"
   ]
  },
  {
   "cell_type": "code",
   "execution_count": 6,
   "id": "43d9c9c1-1b68-4a36-b8a6-2010a645a6db",
   "metadata": {},
   "outputs": [],
   "source": [
    "df[\"Age\"] = df[\"Age\"].str.replace(\",\", \".\")\n",
    "df[\"Fare\"] = df[\"Fare\"].str.replace(\",\", \".\")"
   ]
  },
  {
   "cell_type": "code",
   "execution_count": 7,
   "id": "e8f3a985-c56d-4d98-95ec-118e1c4f94f1",
   "metadata": {},
   "outputs": [],
   "source": [
    "def check_float(value):\n",
    "    try:\n",
    "        float(value)\n",
    "        return np.NaN\n",
    "    except ValueError:\n",
    "        return value"
   ]
  },
  {
   "cell_type": "markdown",
   "id": "8452bb8f-4a77-4f68-bc4a-88a136920311",
   "metadata": {},
   "source": [
    "### Detecting invalid numeric values"
   ]
  },
  {
   "cell_type": "code",
   "execution_count": 8,
   "id": "1b6d2ed0-d917-4e39-ba49-2bda8828474d",
   "metadata": {},
   "outputs": [
    {
     "name": "stdout",
     "output_type": "stream",
     "text": [
      "Series([], Name: Age, dtype: float64)\n"
     ]
    }
   ],
   "source": [
    "print(df[\"Age\"].apply(check_float).dropna())\n",
    "df[\"Age\"] = pd.to_numeric(df[\"Age\"], errors=\"coerce\")"
   ]
  },
  {
   "cell_type": "code",
   "execution_count": 9,
   "id": "0870cd8c-b036-4288-8e74-315dd50c5491",
   "metadata": {},
   "outputs": [
    {
     "name": "stdout",
     "output_type": "stream",
     "text": [
      "489    15.9a\n",
      "Name: Fare, dtype: object\n"
     ]
    }
   ],
   "source": [
    "print(df[\"Fare\"].apply(check_float).dropna())\n",
    "df[\"Fare\"] = pd.to_numeric(df[\"Fare\"], errors=\"coerce\")"
   ]
  },
  {
   "cell_type": "code",
   "execution_count": 10,
   "id": "a84fddfa-41f6-46f8-9acf-102a16ca1ea6",
   "metadata": {},
   "outputs": [
    {
     "data": {
      "text/plain": [
       "PassengerId     object\n",
       "Survived        object\n",
       "Pclass          object\n",
       "Name            object\n",
       "Sex             object\n",
       "Age            float64\n",
       "SibSp            int64\n",
       "Parch            int64\n",
       "Ticket          object\n",
       "Fare           float64\n",
       "Cabin           object\n",
       "Embarked        object\n",
       "ship            object\n",
       "dtype: object"
      ]
     },
     "execution_count": 10,
     "metadata": {},
     "output_type": "execute_result"
    }
   ],
   "source": [
    "df.dtypes"
   ]
  },
  {
   "cell_type": "markdown",
   "id": "583b3729-c9a5-41f1-b64c-c0c000412304",
   "metadata": {},
   "source": [
    "# Exploration\n",
    "\n",
    "## Finding missing value"
   ]
  },
  {
   "cell_type": "code",
   "execution_count": 11,
   "id": "4635074c-1b59-4fa1-be14-d1cdba545b40",
   "metadata": {},
   "outputs": [
    {
     "data": {
      "text/plain": [
       "PassengerId      0\n",
       "Survived         0\n",
       "Pclass           0\n",
       "Name             0\n",
       "Sex              0\n",
       "Age            173\n",
       "SibSp            0\n",
       "Parch            0\n",
       "Ticket           0\n",
       "Fare             1\n",
       "Cabin          685\n",
       "Embarked         2\n",
       "ship             0\n",
       "dtype: int64"
      ]
     },
     "execution_count": 11,
     "metadata": {},
     "output_type": "execute_result"
    }
   ],
   "source": [
    "df.isnull().sum()"
   ]
  },
  {
   "cell_type": "code",
   "execution_count": 12,
   "id": "bbf9d588-0b61-416b-b252-6b1bc4bdc8ef",
   "metadata": {},
   "outputs": [
    {
     "data": {
      "text/plain": [
       "<AxesSubplot:>"
      ]
     },
     "execution_count": 12,
     "metadata": {},
     "output_type": "execute_result"
    },
    {
     "data": {
      "image/png": "[encoded data removed]",
      "text/plain": [
       "<Figure size 432x288 with 2 Axes>"
      ]
     },
     "metadata": {
      "needs_background": "light"
     },
     "output_type": "display_data"
    }
   ],
   "source": [
    "colours = ['#000099', '#ffff00'] # specify the colours - yellow is missing. blue is not missing.\n",
    "sns.heatmap(df.isnull(), cmap=sns.color_palette(colours))"
   ]
  },
  {
   "cell_type": "markdown",
   "id": "9bf59acd-ccff-4c7a-bc21-723a1470b559",
   "metadata": {},
   "source": [
    "**Counting unique values in columns**"
   ]
  },
  {
   "cell_type": "code",
   "execution_count": 13,
   "id": "e207872c-52b1-4a19-9c5e-a1dc0d522232",
   "metadata": {},
   "outputs": [
    {
     "data": {
      "text/plain": [
       "PassengerId    888\n",
       "Survived         2\n",
       "Pclass           3\n",
       "Name           889\n",
       "Sex              6\n",
       "Age             93\n",
       "SibSp            7\n",
       "Parch            6\n",
       "Ticket         680\n",
       "Fare           249\n",
       "Cabin          145\n",
       "Embarked         6\n",
       "ship             1\n",
       "dtype: int64"
      ]
     },
     "execution_count": 13,
     "metadata": {},
     "output_type": "execute_result"
    }
   ],
   "source": [
    "df.nunique()"
   ]
  },
  {
   "cell_type": "markdown",
   "id": "f724c177-79f7-47c3-8480-833de35e9677",
   "metadata": {},
   "source": [
    "## Detecting duplicates"
   ]
  },
  {
   "cell_type": "code",
   "execution_count": 14,
   "id": "dd56abf0-28b8-4daf-b5c6-359399c2e86f",
   "metadata": {},
   "outputs": [],
   "source": [
    "def get_duplicated_rows(df: pd.DataFrame, column: str) -> pd.DataFrame:\n",
    "    return df[df.duplicated([column], keep=False)]"
   ]
  },
  {
   "cell_type": "code",
   "execution_count": 15,
   "id": "2a13b94c-48a6-4b72-818f-9084b7e2762c",
   "metadata": {},
   "outputs": [
    {
     "data": {
      "text/html": [
       "<div>\n",
       "<style scoped>\n",
       "    .dataframe tbody tr th:only-of-type {\n",
       "        vertical-align: middle;\n",
       "    }\n",
       "\n",
       "    .dataframe tbody tr th {\n",
       "        vertical-align: top;\n",
       "    }\n",
       "\n",
       "    .dataframe thead th {\n",
       "        text-align: right;\n",
       "    }\n",
       "</style>\n",
       "<table border=\"1\" class=\"dataframe\">\n",
       "  <thead>\n",
       "    <tr style=\"text-align: right;\">\n",
       "      <th></th>\n",
       "      <th>PassengerId</th>\n",
       "      <th>Survived</th>\n",
       "      <th>Pclass</th>\n",
       "      <th>Name</th>\n",
       "      <th>Sex</th>\n",
       "      <th>Age</th>\n",
       "      <th>SibSp</th>\n",
       "      <th>Parch</th>\n",
       "      <th>Ticket</th>\n",
       "      <th>Fare</th>\n",
       "      <th>Cabin</th>\n",
       "      <th>Embarked</th>\n",
       "      <th>ship</th>\n",
       "    </tr>\n",
       "  </thead>\n",
       "  <tbody>\n",
       "    <tr>\n",
       "      <th>10</th>\n",
       "      <td>11</td>\n",
       "      <td>1</td>\n",
       "      <td>3</td>\n",
       "      <td>Sandstrom, Miss. Marguerite Ru&amp;5$$</td>\n",
       "      <td>female</td>\n",
       "      <td>4.0</td>\n",
       "      <td>1</td>\n",
       "      <td>1</td>\n",
       "      <td>PP 9549</td>\n",
       "      <td>16.7</td>\n",
       "      <td>G6</td>\n",
       "      <td>S</td>\n",
       "      <td>Titanic</td>\n",
       "    </tr>\n",
       "    <tr>\n",
       "      <th>13</th>\n",
       "      <td>11</td>\n",
       "      <td>1</td>\n",
       "      <td>3</td>\n",
       "      <td>Sandstrom, Miss. Marguerite Ru&amp;5$$</td>\n",
       "      <td>female</td>\n",
       "      <td>4.0</td>\n",
       "      <td>1</td>\n",
       "      <td>1</td>\n",
       "      <td>PP 9549</td>\n",
       "      <td>16.7</td>\n",
       "      <td>G6</td>\n",
       "      <td>S</td>\n",
       "      <td>Titanic</td>\n",
       "    </tr>\n",
       "    <tr>\n",
       "      <th>23</th>\n",
       "      <td>11</td>\n",
       "      <td>1</td>\n",
       "      <td>3</td>\n",
       "      <td>Sandstrom, Miss. Marguerite Ru&amp;5$$</td>\n",
       "      <td>female</td>\n",
       "      <td>4.0</td>\n",
       "      <td>1</td>\n",
       "      <td>1</td>\n",
       "      <td>PP 9549</td>\n",
       "      <td>16.7</td>\n",
       "      <td>G6</td>\n",
       "      <td>S</td>\n",
       "      <td>Titanic</td>\n",
       "    </tr>\n",
       "    <tr>\n",
       "      <th>224</th>\n",
       "      <td>225</td>\n",
       "      <td>1</td>\n",
       "      <td>1</td>\n",
       "      <td>Hoyt, Mr. Frederick Maxfield</td>\n",
       "      <td>male</td>\n",
       "      <td>38.0</td>\n",
       "      <td>1</td>\n",
       "      <td>0</td>\n",
       "      <td>19943</td>\n",
       "      <td>90.0</td>\n",
       "      <td>C93</td>\n",
       "      <td>S</td>\n",
       "      <td>Titanic</td>\n",
       "    </tr>\n",
       "    <tr>\n",
       "      <th>520</th>\n",
       "      <td>225</td>\n",
       "      <td>1</td>\n",
       "      <td>1</td>\n",
       "      <td>Hoyt, Mr. Frederick Maxfield</td>\n",
       "      <td>male</td>\n",
       "      <td>38.0</td>\n",
       "      <td>1</td>\n",
       "      <td>0</td>\n",
       "      <td>19943</td>\n",
       "      <td>90.0</td>\n",
       "      <td>C93</td>\n",
       "      <td>S</td>\n",
       "      <td>Titanic</td>\n",
       "    </tr>\n",
       "    <tr>\n",
       "      <th>678</th>\n",
       "      <td>225</td>\n",
       "      <td>1</td>\n",
       "      <td>1</td>\n",
       "      <td>Hoytt, Mr. Frederick Maxfield</td>\n",
       "      <td>male</td>\n",
       "      <td>38.0</td>\n",
       "      <td>1</td>\n",
       "      <td>0</td>\n",
       "      <td>19943</td>\n",
       "      <td>90.0</td>\n",
       "      <td>C93</td>\n",
       "      <td>S</td>\n",
       "      <td>Titanic</td>\n",
       "    </tr>\n",
       "  </tbody>\n",
       "</table>\n",
       "</div>"
      ],
      "text/plain": [
       "    PassengerId Survived Pclass                                Name     Sex  \\\n",
       "10           11        1      3  Sandstrom, Miss. Marguerite Ru&5$$  female   \n",
       "13           11        1      3  Sandstrom, Miss. Marguerite Ru&5$$  female   \n",
       "23           11        1      3  Sandstrom, Miss. Marguerite Ru&5$$  female   \n",
       "224         225        1      1        Hoyt, Mr. Frederick Maxfield    male   \n",
       "520         225        1      1        Hoyt, Mr. Frederick Maxfield    male   \n",
       "678         225        1      1       Hoytt, Mr. Frederick Maxfield    male   \n",
       "\n",
       "      Age  SibSp  Parch   Ticket  Fare Cabin Embarked     ship  \n",
       "10    4.0      1      1  PP 9549  16.7    G6        S  Titanic  \n",
       "13    4.0      1      1  PP 9549  16.7    G6        S  Titanic  \n",
       "23    4.0      1      1  PP 9549  16.7    G6        S  Titanic  \n",
       "224  38.0      1      0    19943  90.0   C93        S  Titanic  \n",
       "520  38.0      1      0    19943  90.0   C93        S  Titanic  \n",
       "678  38.0      1      0    19943  90.0   C93        S  Titanic  "
      ]
     },
     "execution_count": 15,
     "metadata": {},
     "output_type": "execute_result"
    }
   ],
   "source": [
    "get_duplicated_rows(df, \"PassengerId\")"
   ]
  },
  {
   "cell_type": "code",
   "execution_count": 16,
   "id": "e2a36763-67c2-40f5-a9f1-cb707eb59a98",
   "metadata": {},
   "outputs": [
    {
     "data": {
      "text/html": [
       "<div>\n",
       "<style scoped>\n",
       "    .dataframe tbody tr th:only-of-type {\n",
       "        vertical-align: middle;\n",
       "    }\n",
       "\n",
       "    .dataframe tbody tr th {\n",
       "        vertical-align: top;\n",
       "    }\n",
       "\n",
       "    .dataframe thead th {\n",
       "        text-align: right;\n",
       "    }\n",
       "</style>\n",
       "<table border=\"1\" class=\"dataframe\">\n",
       "  <thead>\n",
       "    <tr style=\"text-align: right;\">\n",
       "      <th></th>\n",
       "      <th>PassengerId</th>\n",
       "      <th>Survived</th>\n",
       "      <th>Pclass</th>\n",
       "      <th>Name</th>\n",
       "      <th>Sex</th>\n",
       "      <th>Age</th>\n",
       "      <th>SibSp</th>\n",
       "      <th>Parch</th>\n",
       "      <th>Ticket</th>\n",
       "      <th>Fare</th>\n",
       "      <th>Cabin</th>\n",
       "      <th>Embarked</th>\n",
       "      <th>ship</th>\n",
       "    </tr>\n",
       "  </thead>\n",
       "  <tbody>\n",
       "    <tr>\n",
       "      <th>10</th>\n",
       "      <td>11</td>\n",
       "      <td>1</td>\n",
       "      <td>3</td>\n",
       "      <td>Sandstrom, Miss. Marguerite Ru&amp;5$$</td>\n",
       "      <td>female</td>\n",
       "      <td>4.0</td>\n",
       "      <td>1</td>\n",
       "      <td>1</td>\n",
       "      <td>PP 9549</td>\n",
       "      <td>16.7</td>\n",
       "      <td>G6</td>\n",
       "      <td>S</td>\n",
       "      <td>Titanic</td>\n",
       "    </tr>\n",
       "    <tr>\n",
       "      <th>13</th>\n",
       "      <td>11</td>\n",
       "      <td>1</td>\n",
       "      <td>3</td>\n",
       "      <td>Sandstrom, Miss. Marguerite Ru&amp;5$$</td>\n",
       "      <td>female</td>\n",
       "      <td>4.0</td>\n",
       "      <td>1</td>\n",
       "      <td>1</td>\n",
       "      <td>PP 9549</td>\n",
       "      <td>16.7</td>\n",
       "      <td>G6</td>\n",
       "      <td>S</td>\n",
       "      <td>Titanic</td>\n",
       "    </tr>\n",
       "    <tr>\n",
       "      <th>23</th>\n",
       "      <td>11</td>\n",
       "      <td>1</td>\n",
       "      <td>3</td>\n",
       "      <td>Sandstrom, Miss. Marguerite Ru&amp;5$$</td>\n",
       "      <td>female</td>\n",
       "      <td>4.0</td>\n",
       "      <td>1</td>\n",
       "      <td>1</td>\n",
       "      <td>PP 9549</td>\n",
       "      <td>16.7</td>\n",
       "      <td>G6</td>\n",
       "      <td>S</td>\n",
       "      <td>Titanic</td>\n",
       "    </tr>\n",
       "    <tr>\n",
       "      <th>224</th>\n",
       "      <td>225</td>\n",
       "      <td>1</td>\n",
       "      <td>1</td>\n",
       "      <td>Hoyt, Mr. Frederick Maxfield</td>\n",
       "      <td>male</td>\n",
       "      <td>38.0</td>\n",
       "      <td>1</td>\n",
       "      <td>0</td>\n",
       "      <td>19943</td>\n",
       "      <td>90.0</td>\n",
       "      <td>C93</td>\n",
       "      <td>S</td>\n",
       "      <td>Titanic</td>\n",
       "    </tr>\n",
       "    <tr>\n",
       "      <th>520</th>\n",
       "      <td>225</td>\n",
       "      <td>1</td>\n",
       "      <td>1</td>\n",
       "      <td>Hoyt, Mr. Frederick Maxfield</td>\n",
       "      <td>male</td>\n",
       "      <td>38.0</td>\n",
       "      <td>1</td>\n",
       "      <td>0</td>\n",
       "      <td>19943</td>\n",
       "      <td>90.0</td>\n",
       "      <td>C93</td>\n",
       "      <td>S</td>\n",
       "      <td>Titanic</td>\n",
       "    </tr>\n",
       "  </tbody>\n",
       "</table>\n",
       "</div>"
      ],
      "text/plain": [
       "    PassengerId Survived Pclass                                Name     Sex  \\\n",
       "10           11        1      3  Sandstrom, Miss. Marguerite Ru&5$$  female   \n",
       "13           11        1      3  Sandstrom, Miss. Marguerite Ru&5$$  female   \n",
       "23           11        1      3  Sandstrom, Miss. Marguerite Ru&5$$  female   \n",
       "224         225        1      1        Hoyt, Mr. Frederick Maxfield    male   \n",
       "520         225        1      1        Hoyt, Mr. Frederick Maxfield    male   \n",
       "\n",
       "      Age  SibSp  Parch   Ticket  Fare Cabin Embarked     ship  \n",
       "10    4.0      1      1  PP 9549  16.7    G6        S  Titanic  \n",
       "13    4.0      1      1  PP 9549  16.7    G6        S  Titanic  \n",
       "23    4.0      1      1  PP 9549  16.7    G6        S  Titanic  \n",
       "224  38.0      1      0    19943  90.0   C93        S  Titanic  \n",
       "520  38.0      1      0    19943  90.0   C93        S  Titanic  "
      ]
     },
     "execution_count": 16,
     "metadata": {},
     "output_type": "execute_result"
    }
   ],
   "source": [
    "get_duplicated_rows(df, \"Name\")"
   ]
  },
  {
   "cell_type": "markdown",
   "id": "ed591afb-640a-4ef6-8919-1b93ebd6736d",
   "metadata": {},
   "source": [
    "## Detecting invalid valuves"
   ]
  },
  {
   "cell_type": "code",
   "execution_count": 17,
   "id": "155b6e7d-9716-4a8e-8ce7-d2af73acfa43",
   "metadata": {},
   "outputs": [
    {
     "data": {
      "text/plain": [
       "<AxesSubplot:xlabel='Pclass', ylabel='count'>"
      ]
     },
     "execution_count": 17,
     "metadata": {},
     "output_type": "execute_result"
    },
    {
     "data": {
      "image/png": "[encoded data removed]",
      "text/plain": [
       "<Figure size 432x288 with 1 Axes>"
      ]
     },
     "metadata": {
      "needs_background": "light"
     },
     "output_type": "display_data"
    }
   ],
   "source": [
    "sns.countplot(data=df, x=\"Pclass\")"
   ]
  },
  {
   "cell_type": "code",
   "execution_count": 18,
   "id": "626adb60-a80f-4f68-9150-d2cd4af08f9d",
   "metadata": {},
   "outputs": [
    {
     "data": {
      "text/plain": [
       "<AxesSubplot:xlabel='Sex', ylabel='count'>"
      ]
     },
     "execution_count": 18,
     "metadata": {},
     "output_type": "execute_result"
    },
    {
     "data": {
      "image/png": "[encoded data removed]",
      "text/plain": [
       "<Figure size 432x288 with 1 Axes>"
      ]
     },
     "metadata": {
      "needs_background": "light"
     },
     "output_type": "display_data"
    }
   ],
   "source": [
    "sns.countplot(data=df, x=\"Sex\")"
   ]
  },
  {
   "cell_type": "code",
   "execution_count": 19,
   "id": "0c781fc8-f934-4ebf-8420-39632b14c48b",
   "metadata": {},
   "outputs": [
    {
     "data": {
      "text/plain": [
       "<AxesSubplot:xlabel='SibSp', ylabel='count'>"
      ]
     },
     "execution_count": 19,
     "metadata": {},
     "output_type": "execute_result"
    },
    {
     "data": {
      "image/png": "[encoded data removed]",
      "text/plain": [
       "<Figure size 432x288 with 1 Axes>"
      ]
     },
     "metadata": {
      "needs_background": "light"
     },
     "output_type": "display_data"
    }
   ],
   "source": [
    "sns.countplot(data=df, x=\"SibSp\")"
   ]
  },
  {
   "cell_type": "code",
   "execution_count": 20,
   "id": "43963251-9df6-4b26-a7d9-fc232160fe8c",
   "metadata": {},
   "outputs": [
    {
     "data": {
      "text/plain": [
       "<AxesSubplot:xlabel='Parch', ylabel='count'>"
      ]
     },
     "execution_count": 20,
     "metadata": {},
     "output_type": "execute_result"
    },
    {
     "data": {
      "image/png": "[encoded data removed]",
      "text/plain": [
       "<Figure size 432x288 with 1 Axes>"
      ]
     },
     "metadata": {
      "needs_background": "light"
     },
     "output_type": "display_data"
    }
   ],
   "source": [
    "sns.countplot(data=df, x=\"Parch\")"
   ]
  },
  {
   "cell_type": "code",
   "execution_count": 21,
   "id": "aff05cf4-c545-4075-b9b5-b21f8932a930",
   "metadata": {},
   "outputs": [
    {
     "data": {
      "text/plain": [
       "<AxesSubplot:xlabel='Embarked', ylabel='count'>"
      ]
     },
     "execution_count": 21,
     "metadata": {},
     "output_type": "execute_result"
    },
    {
     "data": {
      "image/png": "[encoded data removed]",
      "text/plain": [
       "<Figure size 432x288 with 1 Axes>"
      ]
     },
     "metadata": {
      "needs_background": "light"
     },
     "output_type": "display_data"
    }
   ],
   "source": [
    "sns.countplot(data=df, x=\"Embarked\")"
   ]
  },
  {
   "cell_type": "code",
   "execution_count": 22,
   "id": "69f80976-30f8-4eab-8e1a-9df881b58bef",
   "metadata": {},
   "outputs": [
    {
     "data": {
      "text/plain": [
       "count     719.000000\n",
       "mean       35.929166\n",
       "std       165.148008\n",
       "min       -12.000000\n",
       "25%        20.000000\n",
       "50%        28.000000\n",
       "75%        38.000000\n",
       "max      4435.000000\n",
       "Name: Age, dtype: float64"
      ]
     },
     "execution_count": 22,
     "metadata": {},
     "output_type": "execute_result"
    }
   ],
   "source": [
    "df[\"Age\"].describe()"
   ]
  },
  {
   "cell_type": "code",
   "execution_count": 23,
   "id": "7bed6511-8335-46ce-9f11-6bb6673c5fd9",
   "metadata": {},
   "outputs": [
    {
     "data": {
      "text/plain": [
       "<AxesSubplot:xlabel='Age'>"
      ]
     },
     "execution_count": 23,
     "metadata": {},
     "output_type": "execute_result"
    },
    {
     "data": {
      "image/png": "[encoded data removed]",
      "text/plain": [
       "<Figure size 432x288 with 1 Axes>"
      ]
     },
     "metadata": {
      "needs_background": "light"
     },
     "output_type": "display_data"
    }
   ],
   "source": [
    "sns.boxplot(x=df[\"Age\"])"
   ]
  },
  {
   "cell_type": "code",
   "execution_count": 24,
   "id": "8c1083c6-9fa1-4d6d-8e6b-bd139a175e32",
   "metadata": {},
   "outputs": [
    {
     "data": {
      "text/plain": [
       "count    891.000000\n",
       "mean      32.092339\n",
       "std       49.894634\n",
       "min      -90.000000\n",
       "25%        7.895800\n",
       "50%       14.454200\n",
       "75%       30.847900\n",
       "max      512.329200\n",
       "Name: Fare, dtype: float64"
      ]
     },
     "execution_count": 24,
     "metadata": {},
     "output_type": "execute_result"
    }
   ],
   "source": [
    "df[\"Fare\"].describe()"
   ]
  },
  {
   "cell_type": "code",
   "execution_count": 25,
   "id": "10e5e2c5-f95e-42fe-98d0-ca1ec1cbd8be",
   "metadata": {},
   "outputs": [
    {
     "data": {
      "text/plain": [
       "<AxesSubplot:xlabel='Fare'>"
      ]
     },
     "execution_count": 25,
     "metadata": {},
     "output_type": "execute_result"
    },
    {
     "data": {
      "image/png": "[encoded data removed]",
      "text/plain": [
       "<Figure size 432x288 with 1 Axes>"
      ]
     },
     "metadata": {
      "needs_background": "light"
     },
     "output_type": "display_data"
    }
   ],
   "source": [
    "sns.boxplot(x=df[\"Fare\"])"
   ]
  },
  {
   "cell_type": "markdown",
   "id": "85d56535-f46d-4326-a84d-2a2696560ff0",
   "metadata": {},
   "source": [
    "## Exploration summary\n",
    "\n",
    "| Column      | Comment                                                                                               | Solution                                                        |\n",
    "|-------------|-------------------------------------------------------------------------------------------------------|-----------------------------------------------------------------|\n",
    "| PassengerId | Has duplicated values                                                                                 | Rows with duplicated values can be removed                      |\n",
    "| Survived    | Has two unique values, seems to be ok                                                                 |                                                                 |\n",
    "| Pclass      | Has three unique values, seems to be ok                                                               |                                                                 |\n",
    "| Name        | Has duplicated values                                                                                 | Rows with duplicated values can be removed                      |\n",
    "| Sex         | Has invalid values, with typos: \"malef\", \"mal\", \"fem\", \"femmale\"                                      | Invalid values can be merged with main ones: \"male\", \"female\"   |\n",
    "| Age         | Has missing and invalid values which include: negative (-12) and out of bounds for a human age (4435) | Rows with invalid or missing values can be dropped              |\n",
    "| SibSp       | Has seven unique values, seems to be ok                                                               |                                                                 |\n",
    "| Parch       | Has six unique values, seems to be ok                                                                 |                                                                 |\n",
    "| Ticket      | Not checked                                                                                           |                                                                 |\n",
    "| Fare        | Has negative values and one non-numeric value                                                         | Rows with negative and invalid values can be dropped            |\n",
    "| Cabin       | Has a lot of missing values (685)                                                                     | Column can be dropped                                           |\n",
    "| Embarked    | Has invalid values, with different naming convention: \"So\", \"Co\", \"Qe\"                                | Invalid values could be merged with the main ones \"S\", \"C\", \"Q\" |\n",
    "| ship        | All rows have the same value \"Titanic\"                                                                | Column can be dropped                                           |"
   ]
  },
  {
   "cell_type": "markdown",
   "id": "460c229e-8a15-49d5-b3b7-52185357a9d5",
   "metadata": {},
   "source": [
    "# Cleaning"
   ]
  },
  {
   "cell_type": "markdown",
   "id": "66bda750-34d3-40b6-a6f3-866998e88910",
   "metadata": {},
   "source": [
    "## Unecessary data"
   ]
  },
  {
   "cell_type": "code",
   "execution_count": 26,
   "id": "745897ca-3329-44de-a93b-41e111ff4856",
   "metadata": {},
   "outputs": [],
   "source": [
    "df = df.drop(columns=[\"ship\"])"
   ]
  },
  {
   "cell_type": "markdown",
   "id": "d556a348-32cc-4f3a-b42c-79595c0877d8",
   "metadata": {},
   "source": [
    "## Missing data"
   ]
  },
  {
   "cell_type": "code",
   "execution_count": 27,
   "id": "29f7c0b3-f3b6-4652-9d9c-995b6d032097",
   "metadata": {},
   "outputs": [],
   "source": [
    "df = df.dropna(subset=[\"Age\", \"Fare\", \"Embarked\"])"
   ]
  },
  {
   "cell_type": "code",
   "execution_count": 28,
   "id": "12ed5234-9dbc-4a4e-a81a-b0ee582acc60",
   "metadata": {},
   "outputs": [],
   "source": [
    "df = df.drop(columns=[\"Cabin\"])"
   ]
  },
  {
   "cell_type": "markdown",
   "id": "0f83ff1f-a7fc-4eec-a77c-7d17d0aa81cf",
   "metadata": {},
   "source": [
    "## Duplicated data"
   ]
  },
  {
   "cell_type": "code",
   "execution_count": 29,
   "id": "a9c6188b-9ccb-4361-93e1-ae136e51ce69",
   "metadata": {},
   "outputs": [],
   "source": [
    "df = df.drop_duplicates(subset=[\"PassengerId\"])\n",
    "df = df.drop_duplicates(subset=[\"Name\"])"
   ]
  },
  {
   "cell_type": "markdown",
   "id": "f03049f1-3b82-4bda-8f25-21b2c0fe0162",
   "metadata": {},
   "source": [
    "## Invalid data\n",
    "\n",
    "### Categorical data"
   ]
  },
  {
   "cell_type": "code",
   "execution_count": 31,
   "id": "2703d10f-f59e-4548-af9c-ce1c02a7b656",
   "metadata": {},
   "outputs": [],
   "source": [
    "sex_mapping = {\n",
    "    \"malef\": \"male\",\n",
    "    \"mal\": \"male\",\n",
    "    \"femmale\": \"female\",\n",
    "}\n",
    "\n",
    "df[\"Sex\"] = df[\"Sex\"].replace(sex_mapping)"
   ]
  },
  {
   "cell_type": "code",
   "execution_count": 32,
   "id": "63bdb42c-6dfd-4efb-9b17-3c0d04d151bf",
   "metadata": {},
   "outputs": [],
   "source": [
    "embarked_mapping = {\n",
    "    \"So\": \"S\",\n",
    "    \"Co\": \"C\",\n",
    "    \"Qe\": \"Q\",\n",
    "}\n",
    "\n",
    "df[\"Embarked\"] = df[\"Embarked\"].replace(embarked_mapping)"
   ]
  },
  {
   "cell_type": "markdown",
   "id": "905f8d5b-90a9-46ca-bfee-2ad814eb634f",
   "metadata": {},
   "source": [
    "### Numeric data"
   ]
  },
  {
   "cell_type": "code",
   "execution_count": 33,
   "id": "e432f5e5-5459-438e-961f-b6cbec00ae6f",
   "metadata": {},
   "outputs": [],
   "source": [
    "df = df[df[\"Age\"].between(0, 115)]"
   ]
  },
  {
   "cell_type": "code",
   "execution_count": 34,
   "id": "06e4935a-6a67-46f8-a6a7-315da7f15791",
   "metadata": {},
   "outputs": [],
   "source": [
    "df = df[df[\"Fare\"].between(0, 600)]"
   ]
  },
  {
   "cell_type": "markdown",
   "id": "e5c49895-0e36-4981-90ff-adb50525e73a",
   "metadata": {},
   "source": [
    "# Output"
   ]
  },
  {
   "cell_type": "code",
   "execution_count": 35,
   "id": "bbcd3b08-3c7a-4d5e-afa5-61dd7af395ca",
   "metadata": {},
   "outputs": [],
   "source": [
    "df.to_csv(\"data/TitanicCleaned.tsv\", sep = '\\t', index=False)"
   ]
  },
  {
   "cell_type": "code",
   "execution_count": null,
   "id": "c3392d35-046f-405a-823b-40f2c31b3fa6",
   "metadata": {},
   "outputs": [],
   "source": []
  }
 ],
 "metadata": {
  "kernelspec": {
   "display_name": "Python 3",
   "language": "python",
   "name": "python3"
  },
  "language_info": {
   "codemirror_mode": {
    "name": "ipython",
    "version": 3
   },
   "file_extension": ".py",
   "mimetype": "text/x-python",
   "name": "python",
   "nbconvert_exporter": "python",
   "pygments_lexer": "ipython3",
   "version": "3.8.7"
  }
 },
 "nbformat": 4,
 "nbformat_minor": 5
}
